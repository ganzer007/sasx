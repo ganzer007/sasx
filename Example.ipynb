{
 "cells": [
  {
   "cell_type": "code",
   "execution_count": 1,
   "metadata": {
    "collapsed": false,
    "scrolled": true
   },
   "outputs": [],
   "source": [
    "import numpy as np\n",
    "import pandas as pd\n",
    "import sasx"
   ]
  },
  {
   "cell_type": "code",
   "execution_count": 2,
   "metadata": {
    "collapsed": false
   },
   "outputs": [],
   "source": [
    "weight = pd.DataFrame(\n",
    "    data=[[   \"John\",    70,    75,    35],\n",
    "          [   \"Roger\",    81,    75,    45],\n",
    "          [   \"Bob\",    87,    89,    31]],\n",
    "    columns=['Name', 'current_weight', 'initial_weight', 'age']\n",
    ")"
   ]
  },
  {
   "cell_type": "code",
   "execution_count": 3,
   "metadata": {
    "collapsed": false
   },
   "outputs": [
    {
     "data": {
      "text/html": [
       "<div>\n",
       "<table border=\"1\" class=\"dataframe\">\n",
       "  <thead>\n",
       "    <tr style=\"text-align: right;\">\n",
       "      <th></th>\n",
       "      <th>Name</th>\n",
       "      <th>current_weight</th>\n",
       "      <th>initial_weight</th>\n",
       "      <th>age</th>\n",
       "    </tr>\n",
       "  </thead>\n",
       "  <tbody>\n",
       "    <tr>\n",
       "      <th>0</th>\n",
       "      <td>John</td>\n",
       "      <td>70</td>\n",
       "      <td>75</td>\n",
       "      <td>35</td>\n",
       "    </tr>\n",
       "    <tr>\n",
       "      <th>1</th>\n",
       "      <td>Roger</td>\n",
       "      <td>81</td>\n",
       "      <td>75</td>\n",
       "      <td>45</td>\n",
       "    </tr>\n",
       "    <tr>\n",
       "      <th>2</th>\n",
       "      <td>Bob</td>\n",
       "      <td>87</td>\n",
       "      <td>89</td>\n",
       "      <td>31</td>\n",
       "    </tr>\n",
       "  </tbody>\n",
       "</table>\n",
       "</div>"
      ],
      "text/plain": [
       "    Name  current_weight  initial_weight  age\n",
       "0   John              70              75   35\n",
       "1  Roger              81              75   45\n",
       "2    Bob              87              89   31"
      ]
     },
     "execution_count": 3,
     "metadata": {},
     "output_type": "execute_result"
    }
   ],
   "source": [
    "weight"
   ]
  },
  {
   "cell_type": "code",
   "execution_count": 4,
   "metadata": {
    "collapsed": false
   },
   "outputs": [
    {
     "name": "stdout",
     "output_type": "stream",
     "text": [
      "{'status': 1, 'df_out': u'weight_loss', 'input_variables': ['current_weight', 'initial_weight'], 'output_variables': ['Percent_loss', 'x'], 'first_line_indent': 2, 'drop': [], 'keep': [u'Name', u'Percent_loss', u'x'], 'indents': [2, 2], 'df_in': u'weight', 'message': '', 'python_blocks': [[u'  Percent_loss = min(current_weight - initial_weight, 0)/initial_weight', u'  x=3'], [u'  x=4']]}\n",
      "-----\n",
      "def sasx_code():\n",
      "    series_Percent_loss  = pd.Series(index=weight.index,name='Percent_loss')\n",
      "    series_x  = pd.Series(index=weight.index,name='x')\n",
      "    for c in weight.itertuples():\n",
      "      current_weight = c.current_weight\n",
      "      initial_weight = c.initial_weight\n",
      "      Percent_loss = min(current_weight - initial_weight, 0)/initial_weight\n",
      "      x=3\n",
      "      series_Percent_loss[c.Index] = Percent_loss\n",
      "      series_x[c.Index] = x\n",
      "    weight_loss = weight.copy()\n",
      "    weight_loss['Percent_loss'] = series_Percent_loss\n",
      "    weight_loss['x'] = series_x\n",
      "    weight_loss=weight_loss[['Name','Percent_loss','x']]\n",
      "    globals()['weight_loss'] = weight_loss\n",
      "sasx_code()\n",
      "-----\n"
     ]
    }
   ],
   "source": [
    "%%sasx\n",
    "data weight_loss:\n",
    "  set weight\n",
    "  Percent_loss = min(current_weight - initial_weight, 0)/initial_weight\n",
    "  x=3\n",
    "  output\n",
    "  x=4\n",
    "  output\n",
    "  keep Name Percent_loss x"
   ]
  },
  {
   "cell_type": "code",
   "execution_count": 5,
   "metadata": {
    "collapsed": false,
    "scrolled": true
   },
   "outputs": [
    {
     "data": {
      "text/html": [
       "<div>\n",
       "<table border=\"1\" class=\"dataframe\">\n",
       "  <thead>\n",
       "    <tr style=\"text-align: right;\">\n",
       "      <th></th>\n",
       "      <th>Name</th>\n",
       "      <th>Percent_loss</th>\n",
       "      <th>x</th>\n",
       "    </tr>\n",
       "  </thead>\n",
       "  <tbody>\n",
       "    <tr>\n",
       "      <th>0</th>\n",
       "      <td>John</td>\n",
       "      <td>-0.066667</td>\n",
       "      <td>3</td>\n",
       "    </tr>\n",
       "    <tr>\n",
       "      <th>1</th>\n",
       "      <td>Roger</td>\n",
       "      <td>0.000000</td>\n",
       "      <td>3</td>\n",
       "    </tr>\n",
       "    <tr>\n",
       "      <th>2</th>\n",
       "      <td>Bob</td>\n",
       "      <td>-0.022472</td>\n",
       "      <td>3</td>\n",
       "    </tr>\n",
       "  </tbody>\n",
       "</table>\n",
       "</div>"
      ],
      "text/plain": [
       "    Name  Percent_loss  x\n",
       "0   John     -0.066667  3\n",
       "1  Roger      0.000000  3\n",
       "2    Bob     -0.022472  3"
      ]
     },
     "execution_count": 5,
     "metadata": {},
     "output_type": "execute_result"
    }
   ],
   "source": [
    "weight_loss"
   ]
  },
  {
   "cell_type": "code",
   "execution_count": 6,
   "metadata": {
    "collapsed": false
   },
   "outputs": [],
   "source": [
    "weight_loss = weight[['Name']].copy()\n",
    "weight_loss['Percent_loss'] = np.minimum(weight.current_weight - weight.initial_weight, 0) / weight.initial_weight"
   ]
  },
  {
   "cell_type": "code",
   "execution_count": 7,
   "metadata": {
    "collapsed": false
   },
   "outputs": [
    {
     "data": {
      "text/html": [
       "<div>\n",
       "<table border=\"1\" class=\"dataframe\">\n",
       "  <thead>\n",
       "    <tr style=\"text-align: right;\">\n",
       "      <th></th>\n",
       "      <th>Name</th>\n",
       "      <th>Percent_loss</th>\n",
       "    </tr>\n",
       "  </thead>\n",
       "  <tbody>\n",
       "    <tr>\n",
       "      <th>0</th>\n",
       "      <td>John</td>\n",
       "      <td>-0.066667</td>\n",
       "    </tr>\n",
       "    <tr>\n",
       "      <th>1</th>\n",
       "      <td>Roger</td>\n",
       "      <td>0.000000</td>\n",
       "    </tr>\n",
       "    <tr>\n",
       "      <th>2</th>\n",
       "      <td>Bob</td>\n",
       "      <td>-0.022472</td>\n",
       "    </tr>\n",
       "  </tbody>\n",
       "</table>\n",
       "</div>"
      ],
      "text/plain": [
       "    Name  Percent_loss\n",
       "0   John     -0.066667\n",
       "1  Roger      0.000000\n",
       "2    Bob     -0.022472"
      ]
     },
     "execution_count": 7,
     "metadata": {},
     "output_type": "execute_result"
    }
   ],
   "source": [
    "weight_loss"
   ]
  },
  {
   "cell_type": "code",
   "execution_count": null,
   "metadata": {
    "collapsed": true
   },
   "outputs": [],
   "source": []
  }
 ],
 "metadata": {
  "kernelspec": {
   "display_name": "Python 2",
   "language": "python",
   "name": "python2"
  },
  "language_info": {
   "codemirror_mode": {
    "name": "ipython",
    "version": 2
   },
   "file_extension": ".py",
   "mimetype": "text/x-python",
   "name": "python",
   "nbconvert_exporter": "python",
   "pygments_lexer": "ipython2",
   "version": "2.7.11"
  }
 },
 "nbformat": 4,
 "nbformat_minor": 0
}
